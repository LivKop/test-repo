{
  "nbformat": 4,
  "nbformat_minor": 0,
  "metadata": {
    "colab": {
      "provenance": [],
      "authorship_tag": "ABX9TyNgI7cAsmHZyvTuDdKEW9pj",
      "include_colab_link": true
    },
    "kernelspec": {
      "name": "python3",
      "display_name": "Python 3"
    },
    "language_info": {
      "name": "python"
    }
  },
  "cells": [
    {
      "cell_type": "markdown",
      "metadata": {
        "id": "view-in-github",
        "colab_type": "text"
      },
      "source": [
        "<a href=\"https://colab.research.google.com/github/LivKop/test-repo/blob/main/azure2.ipynb\" target=\"_parent\"><img src=\"https://colab.research.google.com/assets/colab-badge.svg\" alt=\"Open In Colab\"/></a>"
      ]
    },
    {
      "cell_type": "code",
      "execution_count": null,
      "metadata": {
        "colab": {
          "base_uri": "https://localhost:8080/"
        },
        "id": "y-xWcpWt8w04",
        "outputId": "9826e4ea-3311-4b66-c773-5845803ab5d1"
      },
      "outputs": [
        {
          "output_type": "stream",
          "name": "stdout",
          "text": [
            "Looking in indexes: https://pypi.org/simple, https://us-python.pkg.dev/colab-wheels/public/simple/\n",
            "Collecting azure-storage-file\n",
            "  Downloading azure_storage_file-2.1.0-py2.py3-none-any.whl (36 kB)\n",
            "Collecting azure-storage-common~=2.1\n",
            "  Downloading azure_storage_common-2.1.0-py2.py3-none-any.whl (47 kB)\n",
            "\u001b[2K     \u001b[90m━━━━━━━━━━━━━━━━━━━━━━━━━━━━━━━━━━━━━━━━\u001b[0m \u001b[32m47.8/47.8 kB\u001b[0m \u001b[31m3.2 MB/s\u001b[0m eta \u001b[36m0:00:00\u001b[0m\n",
            "\u001b[?25hCollecting azure-common>=1.1.5\n",
            "  Downloading azure_common-1.1.28-py2.py3-none-any.whl (14 kB)\n",
            "Requirement already satisfied: cryptography in /usr/local/lib/python3.9/dist-packages (from azure-storage-common~=2.1->azure-storage-file) (40.0.2)\n",
            "Requirement already satisfied: python-dateutil in /usr/local/lib/python3.9/dist-packages (from azure-storage-common~=2.1->azure-storage-file) (2.8.2)\n",
            "Requirement already satisfied: requests in /usr/local/lib/python3.9/dist-packages (from azure-storage-common~=2.1->azure-storage-file) (2.27.1)\n",
            "Requirement already satisfied: cffi>=1.12 in /usr/local/lib/python3.9/dist-packages (from cryptography->azure-storage-common~=2.1->azure-storage-file) (1.15.1)\n",
            "Requirement already satisfied: six>=1.5 in /usr/local/lib/python3.9/dist-packages (from python-dateutil->azure-storage-common~=2.1->azure-storage-file) (1.16.0)\n",
            "Requirement already satisfied: urllib3<1.27,>=1.21.1 in /usr/local/lib/python3.9/dist-packages (from requests->azure-storage-common~=2.1->azure-storage-file) (1.26.15)\n",
            "Requirement already satisfied: certifi>=2017.4.17 in /usr/local/lib/python3.9/dist-packages (from requests->azure-storage-common~=2.1->azure-storage-file) (2022.12.7)\n",
            "Requirement already satisfied: charset-normalizer~=2.0.0 in /usr/local/lib/python3.9/dist-packages (from requests->azure-storage-common~=2.1->azure-storage-file) (2.0.12)\n",
            "Requirement already satisfied: idna<4,>=2.5 in /usr/local/lib/python3.9/dist-packages (from requests->azure-storage-common~=2.1->azure-storage-file) (3.4)\n",
            "Requirement already satisfied: pycparser in /usr/local/lib/python3.9/dist-packages (from cffi>=1.12->cryptography->azure-storage-common~=2.1->azure-storage-file) (2.21)\n",
            "Installing collected packages: azure-common, azure-storage-common, azure-storage-file\n",
            "Successfully installed azure-common-1.1.28 azure-storage-common-2.1.0 azure-storage-file-2.1.0\n"
          ]
        }
      ],
      "source": [
        "!pip install azure-storage-file"
      ]
    },
    {
      "cell_type": "code",
      "source": [
        "import random  # random 모듈 불러오기\n",
        "\n",
        "# 1부터 100 사이에 임의의 숫자 생성\n",
        "answer = random.randint(1, 100)\n",
        "\n",
        "# 사용자 입력 받기\n",
        "while True:\n",
        "    guess = int(input(\"1부터 100 사이의 숫자를 입력하세요: \"))\n",
        "    \n",
        "    # 정답인 경우\n",
        "    if guess == answer:\n",
        "        print(\"정답입니다!\")\n",
        "        break  # 게임 종료\n",
        "    \n",
        "    # 입력한 숫자가 정답보다 작은 경우\n",
        "    elif guess < answer:\n",
        "        print(\"숫자가 너무 작습니다. 다시 시도하세요.\")\n",
        "    \n",
        "    # 입력한 숫자가 정답보다 큰 경우\n",
        "    else:\n",
        "        print(\"숫자가 너무 큽니다. 다시 시도하세요.\")"
      ],
      "metadata": {
        "colab": {
          "base_uri": "https://localhost:8080/"
        },
        "id": "NvQ5aTBt9KfV",
        "outputId": "02024c44-c7d9-4dee-8dfe-c8f97c09c2c2"
      },
      "execution_count": null,
      "outputs": [
        {
          "output_type": "stream",
          "name": "stdout",
          "text": [
            "1부터 100 사이의 숫자를 입력하세요: 100\n",
            "숫자가 너무 큽니다. 다시 시도하세요.\n",
            "1부터 100 사이의 숫자를 입력하세요: 5\n",
            "숫자가 너무 작습니다. 다시 시도하세요.\n",
            "1부터 100 사이의 숫자를 입력하세요: 1\n",
            "숫자가 너무 작습니다. 다시 시도하세요.\n",
            "1부터 100 사이의 숫자를 입력하세요: 50\n",
            "숫자가 너무 작습니다. 다시 시도하세요.\n",
            "1부터 100 사이의 숫자를 입력하세요: 88\n",
            "숫자가 너무 작습니다. 다시 시도하세요.\n",
            "1부터 100 사이의 숫자를 입력하세요: 90\n",
            "숫자가 너무 작습니다. 다시 시도하세요.\n",
            "1부터 100 사이의 숫자를 입력하세요: 95\n",
            "숫자가 너무 작습니다. 다시 시도하세요.\n",
            "1부터 100 사이의 숫자를 입력하세요: 99\n",
            "정답입니다!\n"
          ]
        }
      ]
    },
    {
      "cell_type": "code",
      "source": [
        "from azure.storage.file import FileService\n",
        "file_service = FileService(account_name='lab44storage',account_key='CM7/X89o2Y3MAyoOL6bLXwQJW5NsKeQSeV/VXOSLX/NH3Mj2s6soTNyTxo6DsmUlw2pgk3Wf4fN5+AStIlevSw==')"
      ],
      "metadata": {
        "id": "6DUZQast-6P8"
      },
      "execution_count": null,
      "outputs": []
    },
    {
      "cell_type": "code",
      "source": [
        "file_service.create_share('myshare')"
      ],
      "metadata": {
        "colab": {
          "base_uri": "https://localhost:8080/"
        },
        "id": "rMhg1mM8HUJt",
        "outputId": "c201b283-af02-4aa7-e1d6-55c10916d03c"
      },
      "execution_count": null,
      "outputs": [
        {
          "output_type": "execute_result",
          "data": {
            "text/plain": [
              "False"
            ]
          },
          "metadata": {},
          "execution_count": 20
        }
      ]
    },
    {
      "cell_type": "code",
      "source": [
        "file_service.create_directory('myshare','sampledir')"
      ],
      "metadata": {
        "colab": {
          "base_uri": "https://localhost:8080/"
        },
        "id": "_5_IhFs8HVS0",
        "outputId": "c07d9ef0-63e1-48bd-80f1-411cbbfa658e"
      },
      "execution_count": null,
      "outputs": [
        {
          "output_type": "execute_result",
          "data": {
            "text/plain": [
              "False"
            ]
          },
          "metadata": {},
          "execution_count": 22
        }
      ]
    },
    {
      "cell_type": "code",
      "source": [
        "from azure.storage.file import ContentSettings\n",
        "file_service.create_file_from_path(\n",
        "    'myshare',\n",
        "    None,\n",
        "    'myfile.jpg',\n",
        "    'isa.jpg'\n",
        ")"
      ],
      "metadata": {
        "id": "S6m_cKRFH7LF"
      },
      "execution_count": null,
      "outputs": []
    },
    {
      "cell_type": "code",
      "source": [
        "# directory 내용의 확인 \n",
        "generator = file_service.list_directories_and_files('myshare')\n",
        "for file_or_dir in generator:\n",
        "  print(file_or_dir.name)"
      ],
      "metadata": {
        "colab": {
          "base_uri": "https://localhost:8080/"
        },
        "id": "JSna9MbRJC3t",
        "outputId": "04ec4b35-0046-4b46-849f-582497ef2fd2"
      },
      "execution_count": null,
      "outputs": [
        {
          "output_type": "stream",
          "name": "stdout",
          "text": [
            "myfile\n",
            "myfile.jpg\n",
            "sampledir\n"
          ]
        }
      ]
    },
    {
      "cell_type": "code",
      "source": [
        "# 파일을 가져오는 코드\n",
        "file_service.get_file_to_path('myshare',None,'myfile','isa_DOWNLOAD.jpg')\n"
      ],
      "metadata": {
        "colab": {
          "base_uri": "https://localhost:8080/"
        },
        "id": "K8Dhb8p6LlDG",
        "outputId": "2d88da39-3785-4560-edf4-810cada6a58a"
      },
      "execution_count": null,
      "outputs": [
        {
          "output_type": "execute_result",
          "data": {
            "text/plain": [
              "<azure.storage.file.models.File at 0x7f9fc01c3d60>"
            ]
          },
          "metadata": {},
          "execution_count": 25
        }
      ]
    },
    {
      "cell_type": "code",
      "source": [
        "# snapshot\n",
        "metadata = {'foo':'bar'}\n",
        "snapshot = file_service.snapshot_share('myshare',metadata=metadata)"
      ],
      "metadata": {
        "id": "0-06djtdL4au"
      },
      "execution_count": null,
      "outputs": []
    },
    {
      "cell_type": "code",
      "source": [
        "share = list(file_service.list_shares(include_snapshots=True))"
      ],
      "metadata": {
        "id": "1NiMA3mONiru"
      },
      "execution_count": null,
      "outputs": []
    },
    {
      "cell_type": "code",
      "source": [
        "directories_and_file = list(file_service.list_directories_and_files('myshare',snapshot='2023-04-20T05:49:45.0000000Z'))\n",
        "for file_or_dir in directories_and_file:\n",
        "  print(file_or_dir.name)"
      ],
      "metadata": {
        "colab": {
          "base_uri": "https://localhost:8080/"
        },
        "id": "3NeXsjmRRx_X",
        "outputId": "84db96a6-260e-438f-af64-71f961871ac9"
      },
      "execution_count": null,
      "outputs": [
        {
          "output_type": "stream",
          "name": "stdout",
          "text": [
            "myfile\n",
            "sampledir\n"
          ]
        }
      ]
    },
    {
      "cell_type": "code",
      "source": [
        " file_service.delete_share('myshare',snapshot='2023-04-20T06:27:12.0000000Z')"
      ],
      "metadata": {
        "id": "h__Njc9TSRrv",
        "colab": {
          "base_uri": "https://localhost:8080/"
        },
        "outputId": "147f22e0-21bf-49f3-a074-a20dcc2b81ab"
      },
      "execution_count": null,
      "outputs": [
        {
          "output_type": "execute_result",
          "data": {
            "text/plain": [
              "True"
            ]
          },
          "metadata": {},
          "execution_count": 35
        }
      ]
    },
    {
      "cell_type": "code",
      "source": [
        "file_service.delete_share('myshare')"
      ],
      "metadata": {
        "colab": {
          "base_uri": "https://localhost:8080/"
        },
        "id": "xUqtNQwWXHLH",
        "outputId": "873bb74d-78e7-43bf-a4f9-f54ff13eecfc"
      },
      "execution_count": null,
      "outputs": [
        {
          "output_type": "execute_result",
          "data": {
            "text/plain": [
              "True"
            ]
          },
          "metadata": {},
          "execution_count": 36
        }
      ]
    },
    {
      "cell_type": "code",
      "source": [],
      "metadata": {
        "id": "TO1kz-FfXP-Y"
      },
      "execution_count": null,
      "outputs": []
    }
  ]
}