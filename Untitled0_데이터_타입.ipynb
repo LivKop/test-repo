{
  "nbformat": 4,
  "nbformat_minor": 0,
  "metadata": {
    "colab": {
      "provenance": [],
      "authorship_tag": "ABX9TyPCBm3Rm52wWTty1qKobzeP",
      "include_colab_link": true
    },
    "kernelspec": {
      "name": "python3",
      "display_name": "Python 3"
    },
    "language_info": {
      "name": "python"
    }
  },
  "cells": [
    {
      "cell_type": "markdown",
      "metadata": {
        "id": "view-in-github",
        "colab_type": "text"
      },
      "source": [
        "<a href=\"https://colab.research.google.com/github/LivKop/test-repo/blob/main/Untitled0_%EB%8D%B0%EC%9D%B4%ED%84%B0_%ED%83%80%EC%9E%85.ipynb\" target=\"_parent\"><img src=\"https://colab.research.google.com/assets/colab-badge.svg\" alt=\"Open In Colab\"/></a>"
      ]
    },
    {
      "cell_type": "code",
      "execution_count": null,
      "metadata": {
        "colab": {
          "base_uri": "https://localhost:8080/"
        },
        "id": "vTS9tPWbDUBM",
        "outputId": "2230b5d0-2125-4a9b-9c45-bec884541f72"
      },
      "outputs": [
        {
          "output_type": "stream",
          "name": "stdout",
          "text": [
            "Hello World\n"
          ]
        }
      ],
      "source": [
        "print('Hello World')"
      ]
    },
    {
      "cell_type": "code",
      "source": [],
      "metadata": {
        "id": "BKJ5tTNADe0Y"
      },
      "execution_count": null,
      "outputs": []
    },
    {
      "cell_type": "markdown",
      "source": [
        "# 큰 글씨\n",
        "아이유 콘서트 티케팅 빡셈\n",
        "[아이유](https://www.google.com/url?sa=i&url=https%3A%2F%2Ftwitter.com%2F_IUofficial&psig=AOvVaw3ppD4ljGv1eBiZunUJdXaz&ust=1681349402839000&source=images&cd=vfe&ved=0CBEQjRxqFwoTCPjw5OCYo_4CFQAAAAAdAAAAABAE)\n",
        "\n",
        "## 다음 큰 글씨\n",
        "\n",
        "### 다음 큰 글씨"
      ],
      "metadata": {
        "id": "jhEmaG7oFLFC"
      }
    },
    {
      "cell_type": "code",
      "source": [
        "# 변수 규칙\n",
        "\n",
        "a = 1\n",
        "b = 2\n",
        "#2a = 3 항상 변수는 문자로 시작해야 한다.\n",
        "\n",
        "student_count = 100 # 가급적 풀 워드로 짓는다.\n",
        "address = ' ' # 가급적 정확한 영어로 짓는다.\n",
        "print(a * b, student_count)"
      ],
      "metadata": {
        "colab": {
          "base_uri": "https://localhost:8080/"
        },
        "id": "mujw_nTXKtl7",
        "outputId": "51c26899-343a-4767-aecc-1e621f29ab9b"
      },
      "execution_count": null,
      "outputs": [
        {
          "output_type": "stream",
          "name": "stdout",
          "text": [
            "2 100\n"
          ]
        }
      ]
    },
    {
      "cell_type": "code",
      "source": [],
      "metadata": {
        "id": "1irEMQcjLV5S"
      },
      "execution_count": null,
      "outputs": []
    },
    {
      "cell_type": "code",
      "source": [
        "year = 2023\n",
        "print(type(year)) # 타입() 데이터의 타입을 확인하는 함수\n",
        "\n",
        "year = '이천이십삼년'\n",
        "print(type(year))"
      ],
      "metadata": {
        "colab": {
          "base_uri": "https://localhost:8080/"
        },
        "id": "NdzozJITSCJ4",
        "outputId": "5a9b6e2e-7942-4eb0-a16e-45febe2b84f1"
      },
      "execution_count": null,
      "outputs": [
        {
          "output_type": "stream",
          "name": "stdout",
          "text": [
            "<class 'int'>\n",
            "<class 'str'>\n"
          ]
        }
      ]
    },
    {
      "cell_type": "code",
      "source": [
        "# 8진수\n",
        "# 정수 앞에 0o를 붙이면 8진수\n",
        "# 0b 2진수\n",
        "# 0x 16진수\n",
        "print(0o10)\n",
        "print(0b10)\n",
        "print(0x10)"
      ],
      "metadata": {
        "colab": {
          "base_uri": "https://localhost:8080/"
        },
        "id": "G-wn2qc8SfJZ",
        "outputId": "927ac0e5-24e6-446a-e047-5f13789edd87"
      },
      "execution_count": null,
      "outputs": [
        {
          "output_type": "stream",
          "name": "stdout",
          "text": [
            "8\n",
            "2\n",
            "16\n"
          ]
        }
      ]
    },
    {
      "cell_type": "code",
      "source": [
        "# 다음은 10진수를 받아서 각 진수로 변환하는 방법 (결과가 문자형)\n",
        "\n",
        "print(oct(38)) # 10진수 38을 8진수로 변환\n",
        "print(hex(38)) # 10진수 38을 16진수로 변환\n",
        "print(bin(38)) # 10진수 38을 2진수로 변환"
      ],
      "metadata": {
        "colab": {
          "base_uri": "https://localhost:8080/"
        },
        "id": "51d7Gw67SoyC",
        "outputId": "aaf4b3a3-9041-4d40-891e-7001568ce7ad"
      },
      "execution_count": null,
      "outputs": [
        {
          "output_type": "stream",
          "name": "stdout",
          "text": [
            "0o46\n",
            "0x26\n",
            "0b100110\n"
          ]
        }
      ]
    },
    {
      "cell_type": "code",
      "source": [
        "# 실수의 표현\n",
        "print(type(3.14))\n",
        "print(type(314e-2))\n",
        "print(type(3 - 4j)) #복소수\n",
        "x = 3 - 4j\n",
        "print(x.imag)\n",
        "print(x.real)\n",
        "print(x.conjugate())\n"
      ],
      "metadata": {
        "colab": {
          "base_uri": "https://localhost:8080/"
        },
        "id": "oqFgIjAaUEU6",
        "outputId": "6bb084d7-01b2-40c1-a0bf-3cd24b1d93ff"
      },
      "execution_count": null,
      "outputs": [
        {
          "output_type": "stream",
          "name": "stdout",
          "text": [
            "<class 'float'>\n",
            "<class 'float'>\n",
            "<class 'complex'>\n",
            "-4.0\n",
            "3.0\n",
            "(3+4j)\n"
          ]
        }
      ]
    },
    {
      "cell_type": "code",
      "source": [
        "input(\"\")\n",
        "\n",
        "print(a[0:1])\n",
        "print(a[1:4])"
      ],
      "metadata": {
        "colab": {
          "base_uri": "https://localhost:8080/",
          "height": 248
        },
        "id": "CHr_CU4bVOVr",
        "outputId": "f05fe77a-229d-4c94-e9c0-b300f17f2a49"
      },
      "execution_count": null,
      "outputs": [
        {
          "name": "stdout",
          "output_type": "stream",
          "text": [
            "python\n"
          ]
        },
        {
          "output_type": "error",
          "ename": "TypeError",
          "evalue": "ignored",
          "traceback": [
            "\u001b[0;31m---------------------------------------------------------------------------\u001b[0m",
            "\u001b[0;31mTypeError\u001b[0m                                 Traceback (most recent call last)",
            "\u001b[0;32m<ipython-input-25-b96ff417811b>\u001b[0m in \u001b[0;36m<cell line: 3>\u001b[0;34m()\u001b[0m\n\u001b[1;32m      1\u001b[0m \u001b[0minput\u001b[0m\u001b[0;34m(\u001b[0m\u001b[0;34m\"\"\u001b[0m\u001b[0;34m)\u001b[0m\u001b[0;34m\u001b[0m\u001b[0;34m\u001b[0m\u001b[0m\n\u001b[1;32m      2\u001b[0m \u001b[0;34m\u001b[0m\u001b[0m\n\u001b[0;32m----> 3\u001b[0;31m \u001b[0mprint\u001b[0m\u001b[0;34m(\u001b[0m\u001b[0ma\u001b[0m\u001b[0;34m[\u001b[0m\u001b[0;36m0\u001b[0m\u001b[0;34m:\u001b[0m\u001b[0;36m1\u001b[0m\u001b[0;34m]\u001b[0m\u001b[0;34m)\u001b[0m\u001b[0;34m\u001b[0m\u001b[0;34m\u001b[0m\u001b[0m\n\u001b[0m\u001b[1;32m      4\u001b[0m \u001b[0mprint\u001b[0m\u001b[0;34m(\u001b[0m\u001b[0ma\u001b[0m\u001b[0;34m[\u001b[0m\u001b[0;36m1\u001b[0m\u001b[0;34m:\u001b[0m\u001b[0;36m4\u001b[0m\u001b[0;34m]\u001b[0m\u001b[0;34m)\u001b[0m\u001b[0;34m\u001b[0m\u001b[0;34m\u001b[0m\u001b[0m\n",
            "\u001b[0;31mTypeError\u001b[0m: 'int' object is not subscriptable"
          ]
        }
      ]
    },
    {
      "cell_type": "code",
      "source": [
        "print(str(3.14)) # 문자형\n",
        "print(int('49')) # 정수형\n",
        "print(float(23)) # 실수형"
      ],
      "metadata": {
        "colab": {
          "base_uri": "https://localhost:8080/"
        },
        "id": "iv_y0h80svVV",
        "outputId": "6ca9eeeb-d11d-4f4c-814a-ea5b388ead2c"
      },
      "execution_count": null,
      "outputs": [
        {
          "output_type": "stream",
          "name": "stdout",
          "text": [
            "3.14\n",
            "49\n",
            "23.0\n"
          ]
        }
      ]
    },
    {
      "cell_type": "code",
      "source": [],
      "metadata": {
        "id": "zdvjEUAUummQ"
      },
      "execution_count": null,
      "outputs": []
    }
  ]
}